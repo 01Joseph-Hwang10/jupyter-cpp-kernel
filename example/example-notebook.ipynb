{
    "cells": [
        {
            "attachments": {},
            "cell_type": "markdown",
            "metadata": {},
            "source": [
                "# Valid code"
            ]
        },
        {
            "cell_type": "code",
            "execution_count": 1,
            "metadata": {},
            "outputs": [
                {
                    "name": "stdout",
                    "output_type": "stream",
                    "text": [
                        "Hello, World!\n"
                    ]
                }
            ],
            "source": [
                "#include <iostream>\n",
                "\n",
                "int main() {\n",
                "    std::cout << \"Hello, World!\" << std::endl;\n",
                "    return 0;\n",
                "}"
            ]
        },
        {
            "attachments": {},
            "cell_type": "markdown",
            "metadata": {},
            "source": [
                "# Including another file"
            ]
        },
        {
            "cell_type": "code",
            "execution_count": 3,
            "metadata": {},
            "outputs": [
                {
                    "name": "stdout",
                    "output_type": "stream",
                    "text": [
                        "Hello, World!\n",
                        "1 + 2 = 3\n"
                    ]
                }
            ],
            "source": [
                "#include <iostream>\n",
                "// Path is relative to current directory: example/test/add.h.\n",
                "// Keep in mind that cpp file and header file should be in a same level of directory.\n",
                "// Meaning that it's not allowed to have a header file in include directory and cpp file in src directory.\n",
                "// Instead, you should have both in the same directory.\n",
                "#include \"test/add.h\"\n",
                "\n",
                "int main() {\n",
                "    std::cout << \"Hello, World!\" << std::endl;\n",
                "    int res = custom_add(1, 2);\n",
                "    std::cout << \"1 + 2 = \" << res << std::endl;\n",
                "    return 0;\n",
                "}\n"
            ]
        },
        {
            "cell_type": "markdown",
            "metadata": {},
            "source": [
                "But the kernel will also display compilations warnings and errors if we have some. Let's try to remove the `#include <stdio.h>` statement, which if necessary for `printf` to work."
            ]
        },
        {
            "cell_type": "markdown",
            "metadata": {},
            "source": [
                "# Code generating warnings during compilation"
            ]
        },
        {
            "cell_type": "code",
            "execution_count": 4,
            "metadata": {},
            "outputs": [
                {
                    "name": "stderr",
                    "output_type": "stream",
                    "text": [
                        "/var/folders/xf/sy2fwpl54bzcxvmkf38nzntw0000gn/T/tmpb410lt20.cpp:2:5: error: use of undeclared identifier 'std'\n",
                        "    std::cout << \"Hello, World!\" << std::endl;\n",
                        "    ^\n",
                        "/var/folders/xf/sy2fwpl54bzcxvmkf38nzntw0000gn/T/tmpb410lt20.cpp:2:37: error: use of undeclared identifier 'std'\n",
                        "    std::cout << \"Hello, World!\" << std::endl;\n",
                        "                                    ^\n",
                        "2 errors generated.\n",
                        "[C++ kernel] G++ exited with code 1, the executable will not be executed"
                    ]
                }
            ],
            "source": [
                "int main() {\n",
                "    std::cout << \"Hello, World!\" << std::endl;\n",
                "    return 0;\n",
                "}"
            ]
        },
        {
            "cell_type": "markdown",
            "metadata": {},
            "source": [
                "You can see that the warning are displayed, but the code is still executed."
            ]
        },
        {
            "cell_type": "markdown",
            "metadata": {},
            "source": [
                "# Code generating errors during compilation"
            ]
        },
        {
            "cell_type": "code",
            "execution_count": 5,
            "metadata": {},
            "outputs": [
                {
                    "name": "stderr",
                    "output_type": "stream",
                    "text": [
                        "/var/folders/xf/sy2fwpl54bzcxvmkf38nzntw0000gn/T/tmpdnllrwjc.cpp:2:5: error: use of undeclared identifier 'std'\n",
                        "    std::cout << \"Hello, World!\" << std::endl\n",
                        "    ^\n",
                        "/var/folders/xf/sy2fwpl54bzcxvmkf38nzntw0000gn/T/tmpdnllrwjc.cpp:2:37: error: use of undeclared identifier 'std'\n",
                        "    std::cout << \"Hello, World!\" << std::endl\n",
                        "                                    ^\n",
                        "2 errors generated.\n",
                        "[C++ kernel] G++ exited with code 1, the executable will not be executed"
                    ]
                }
            ],
            "source": [
                "int main() {\n",
                "    std::cout << \"Hello, World!\" << std::endl\n",
                "    return 0;\n",
                "}"
            ]
        },
        {
            "cell_type": "markdown",
            "metadata": {},
            "source": [
                "You can see that the errors and warnings are shown, but the code is not executed. The retcode is also added to the end of `stderr`"
            ]
        }
    ],
    "metadata": {
        "kernelspec": {
            "display_name": "C++",
            "language": "cpp",
            "name": "cpp"
        },
        "language_info": {
            "file_extension": ".cpp",
            "mimetype": "text/plain",
            "name": "cpp"
        }
    },
    "nbformat": 4,
    "nbformat_minor": 1
}
